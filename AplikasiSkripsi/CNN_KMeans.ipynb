{
 "cells": [
  {
   "cell_type": "code",
   "execution_count": 1,
   "metadata": {},
   "outputs": [],
   "source": [
    "import numpy as np\n",
    "import pandas as pd\n",
    "from PIL import Image\n",
    "from tensorflow.keras.preprocessing.image import img_to_array\n",
    "from sklearn.cluster import KMeans\n",
    "from sklearn.decomposition import PCA\n",
    "from sklearn.preprocessing import StandardScaler, LabelEncoder\n",
    "from sklearn.metrics import accuracy_score, silhouette_score\n",
    "import matplotlib.pyplot as plt\n",
    "from os.path import join"
   ]
  },
  {
   "cell_type": "code",
   "execution_count": 2,
   "metadata": {},
   "outputs": [],
   "source": [
    "# Load dataset\n",
    "csv_path = 'D:/Users/natan/Skripsi/Dataset/Images_dataset/english.csv'\n",
    "df = pd.read_csv(csv_path)\n",
    "folder_path = 'D:/Users/natan/Skripsi/Dataset/Images_dataset/'"
   ]
  },
  {
   "cell_type": "code",
   "execution_count": 3,
   "metadata": {},
   "outputs": [],
   "source": [
    "# Load images and labels\n",
    "images = []\n",
    "for filename in df['image']:\n",
    "    img = Image.open(join(folder_path, filename))\n",
    "    img = img.resize((150, 150))\n",
    "    img_array = img_to_array(img)\n",
    "    images.append(img_array)\n",
    "\n",
    "images = np.array(images) / 255.0\n",
    "labels = df['label'].values"
   ]
  },
  {
   "cell_type": "code",
   "execution_count": 4,
   "metadata": {},
   "outputs": [],
   "source": [
    "# Extract features using PCA\n",
    "def extract_features(images):\n",
    "    n_samples = len(images)\n",
    "    data = images.reshape((n_samples, -1))\n",
    "    scaler = StandardScaler()\n",
    "    data_scaled = scaler.fit_transform(data)\n",
    "    pca = PCA(n_components=50)\n",
    "    data_pca = pca.fit_transform(data_scaled)\n",
    "    return data_pca, scaler, pca\n",
    "\n",
    "features_pca, scaler, pca = extract_features(images)"
   ]
  },
  {
   "cell_type": "code",
   "execution_count": 7,
   "metadata": {},
   "outputs": [],
   "source": [
    "# K-Means clustering\n",
    "k = len(np.unique(labels))\n",
    "kmeans = KMeans(n_clusters=k, random_state=42)\n",
    "cluster_labels = kmeans.fit_predict(features_pca)\n"
   ]
  },
  {
   "cell_type": "code",
   "execution_count": 8,
   "metadata": {},
   "outputs": [],
   "source": [
    "# Map clusters to labels\n",
    "def map_clusters_to_labels(cluster_labels, true_labels):\n",
    "    cluster_to_labels = {}\n",
    "    for cluster in np.unique(cluster_labels):\n",
    "        mask = cluster_labels == cluster\n",
    "        true_labels_in_cluster = true_labels[mask]\n",
    "        most_common_label = np.bincount(true_labels_in_cluster).argmax()\n",
    "        cluster_to_labels[cluster] = most_common_label\n",
    "    return cluster_to_labels"
   ]
  },
  {
   "cell_type": "code",
   "execution_count": 9,
   "metadata": {},
   "outputs": [],
   "source": [
    "# Convert true labels to numeric for mapping\n",
    "label_encoder = LabelEncoder()\n",
    "labels_numeric = label_encoder.fit_transform(labels)\n",
    "cluster_to_labels = map_clusters_to_labels(cluster_labels, labels_numeric)"
   ]
  },
  {
   "cell_type": "code",
   "execution_count": 10,
   "metadata": {},
   "outputs": [
    {
     "name": "stdout",
     "output_type": "stream",
     "text": [
      "Akurasi K-Means clustering: 11.03%\n"
     ]
    }
   ],
   "source": [
    "# Evaluate clustering accuracy\n",
    "predicted_labels = np.array([cluster_to_labels[cluster] for cluster in cluster_labels])\n",
    "accuracy = accuracy_score(labels_numeric, predicted_labels)\n",
    "print(f\"Akurasi K-Means clustering: {accuracy * 100:.2f}%\")"
   ]
  },
  {
   "cell_type": "code",
   "execution_count": 11,
   "metadata": {},
   "outputs": [
    {
     "name": "stdout",
     "output_type": "stream",
     "text": [
      "Silhouette Score: 0.046357278\n"
     ]
    }
   ],
   "source": [
    "silhouette_avg = silhouette_score(features_pca, kmeans.labels_)\n",
    "print(\"Silhouette Score:\", silhouette_avg )"
   ]
  }
 ],
 "metadata": {
  "kernelspec": {
   "display_name": "Python 3",
   "language": "python",
   "name": "python3"
  },
  "language_info": {
   "codemirror_mode": {
    "name": "ipython",
    "version": 3
   },
   "file_extension": ".py",
   "mimetype": "text/x-python",
   "name": "python",
   "nbconvert_exporter": "python",
   "pygments_lexer": "ipython3",
   "version": "3.11.0"
  }
 },
 "nbformat": 4,
 "nbformat_minor": 2
}
